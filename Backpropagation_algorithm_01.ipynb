{
  "nbformat": 4,
  "nbformat_minor": 0,
  "metadata": {
    "colab": {
      "provenance": [],
      "authorship_tag": "ABX9TyMnYTdeQs9lXQ98bLKzgvY8",
      "include_colab_link": true
    },
    "kernelspec": {
      "name": "python3",
      "display_name": "Python 3"
    },
    "language_info": {
      "name": "python"
    }
  },
  "cells": [
    {
      "cell_type": "markdown",
      "metadata": {
        "id": "view-in-github",
        "colab_type": "text"
      },
      "source": [
        "<a href=\"https://colab.research.google.com/github/keerthanamg/backpropagation-algorithm-01/blob/main/Backpropagation_algorithm_01.ipynb\" target=\"_parent\"><img src=\"https://colab.research.google.com/assets/colab-badge.svg\" alt=\"Open In Colab\"/></a>"
      ]
    },
    {
      "cell_type": "code",
      "source": [
        "import pandas as pd\n",
        "from sklearn.model_selection import train_test_split\n",
        "from sklearn.feature_extraction.text import CountVectorizer\n",
        "from sklearn.neural_network import MLPClassifier\n",
        "from sklearn.metrics import accuracy_score, confusion_matrix, precision_score, recall_score\n",
        "\n",
        "msglbl_data = pd.read_csv('bp.csv', names=['Message', 'Label'])\n",
        "print(\"The Total instances in the Dataset: \", msglbl_data.shape[0])\n",
        "msglbl_data['labelnum'] = msglbl_data.Label.map({'pos': 1, 'neg': 0})\n",
        "print(msglbl_data)"
      ],
      "metadata": {
        "id": "XTGlJkc-wKKZ"
      },
      "execution_count": null,
      "outputs": []
    },
    {
      "cell_type": "code",
      "source": [
        "# Read in the dataset\n",
        "msglbl_data = pd.read_csv('bp.csv',names=['Message','Label'])\n",
        "\n",
        "# Print the number of instances in the dataset\n",
        "print(\"The Total instances in the Dataset: \",msglbl_data.shape[0])\n",
        "\n",
        "# Map the labels to binary values\n",
        "msglbl_data['labelnum'] = msglbl_data.Label.map({'pos': 1, 'neg': 0})\n",
        "\n",
        "# Split the data into training and testing sets\n",
        "X = msglbl_data[\"Message\"]\n",
        "Y = msglbl_data.labelnum\n",
        "Xtrain, Xtest, Ytrain, Ytest = train_test_split(X, Y)\n",
        "\n",
        "# Convert the text data into a sparse matrix of token counts\n",
        "count_vect = CountVectorizer()\n",
        "Xtrain_dims = count_vect.fit_transform(Xtrain)\n",
        "Xtest_dims = count_vect.transform(Xtest)"
      ],
      "metadata": {
        "id": "93m0l7LDwPRl"
      },
      "execution_count": null,
      "outputs": []
    },
    {
      "cell_type": "code",
      "source": [
        "# Create a Multi-Layer Perceptron (MLP) classifier\n",
        "clf = MLPClassifier(solver='lbfgs', alpha=1e-5, hidden_layer_sizes=(5, 2), random_state=1)\n",
        "\n",
        "# Train the classifier on the training data\n",
        "clf.fit(Xtrain_dims, Ytrain)\n",
        "\n",
        "# Predict the labels for the testing data\n",
        "prediction = clf.predict(Xtest_dims)\n",
        "\n",
        "# Print the accuracy, recall, precision, and confusion matrix of the classifier\n",
        "print('******** Accuracy Metrics *********')\n",
        "print('Accuracy : ', accuracy_score(Ytest, predict ion))\n",
        "print('Recall : ', recall_score(Ytest, prediction))\n",
        "print('Precision : ',precision_score(Ytest, prediction))\n",
        "print('Confusion Matrix : \\n', confusion_matrix(Ytest, prediction))\n",
        "print(10*\"-\")"
      ],
      "metadata": {
        "id": "bGIQsjd7wTla"
      },
      "execution_count": null,
      "outputs": []
    },
    {
      "cell_type": "code",
      "source": [
        "# Prompt the user to enter a statement to predict its label\n",
        "test_stmt = [input(\"Enter any statement to predict: \")]\n",
        "test_dims = count_vect.transform(test_stmt)\n",
        "pred = clf.predict(test_dims)\n",
        "# Print the predicted label of the statement\n",
        "for stmt,lbl in zip(test_stmt,pred):\n",
        "    if lbl == 1:\n",
        "        print(\"Statement is Positive\")\n",
        "    else:\n",
        "        print(\"Statement is Negative\")"
      ],
      "metadata": {
        "id": "W03ePw5lwW8R"
      },
      "execution_count": null,
      "outputs": []
    }
  ]
}